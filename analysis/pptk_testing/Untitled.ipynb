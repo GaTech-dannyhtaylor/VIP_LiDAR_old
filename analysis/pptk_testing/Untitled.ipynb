{
 "cells": [
  {
   "cell_type": "code",
   "execution_count": 1,
   "metadata": {},
   "outputs": [],
   "source": [
    "import pptk\n",
    "import numpy as np\n",
    "import pandas as pd\n",
    "\n",
    "\n",
    "# Wrapper for pandas.read.csv()\n",
    "def read_points(f):\n",
    "    # reads Semantic3D .txt file f into a pandas dataframe\n",
    "    col_names = ['x', 'y', 'z', 'i', 'r', 'g', 'b']\n",
    "    col_dtype = {'x': np.float32, 'y': np.float32, 'z': np.float32, 'i': np.int32,\n",
    "                  'r': np.uint8, 'g': np.uint8, 'b': np.uint8}\n",
    "    return pd.read_csv(f, names=col_names, dtype=col_dtype, delim_whitespace=True)\n",
    "\n",
    "def read_labels(f):\n",
    "    # reads Semantic3D .labels file f into a pandas dataframe\n",
    "    return pd.read_csv(f, header=None)[0].values"
   ]
  },
  {
   "cell_type": "code",
   "execution_count": 2,
   "metadata": {},
   "outputs": [],
   "source": [
    "if __name__=='__main__':\n",
    "    points = read_points('bildstein_station1_xyz_intensity_rgb.txt')\n",
    "    labels = read_labels('bildstein_station1_xyz_intensity_rgb.labels')\n",
    "\n",
    "    # v = pptk.viewer(points[['x', 'y', 'z']])\n",
    "    # v.attributes(points[['r', 'g', 'b']] / 255., points['i'])\n",
    "    # v.set(point_size=0.001)\n",
    "\n",
    "    mask = labels != 0\n",
    "    P = points[mask]\n",
    "    L = labels[mask]\n",
    "    v = pptk.viewer(P[['x', 'y', 'z']])\n",
    "    v.attributes(P[['r', 'g', 'b']] / 255., P['i'], L)\n",
    "    v.set(point_size=0.001)"
   ]
  },
  {
   "cell_type": "code",
   "execution_count": 13,
   "metadata": {},
   "outputs": [],
   "source": [
    "indices = v.get('selected')"
   ]
  },
  {
   "cell_type": "code",
   "execution_count": 14,
   "metadata": {},
   "outputs": [
    {
     "name": "stdout",
     "output_type": "stream",
     "text": [
      "[3335584]\n"
     ]
    }
   ],
   "source": [
    "print(indices)"
   ]
  },
  {
   "cell_type": "code",
   "execution_count": 6,
   "metadata": {},
   "outputs": [
    {
     "name": "stdout",
     "output_type": "stream",
     "text": [
      "<class 'numpy.int32'>\n"
     ]
    }
   ],
   "source": [
    "print(type(indices[0]))"
   ]
  },
  {
   "cell_type": "code",
   "execution_count": 7,
   "metadata": {},
   "outputs": [
    {
     "data": {
      "text/html": [
       "<div>\n",
       "<style scoped>\n",
       "    .dataframe tbody tr th:only-of-type {\n",
       "        vertical-align: middle;\n",
       "    }\n",
       "\n",
       "    .dataframe tbody tr th {\n",
       "        vertical-align: top;\n",
       "    }\n",
       "\n",
       "    .dataframe thead th {\n",
       "        text-align: right;\n",
       "    }\n",
       "</style>\n",
       "<table border=\"1\" class=\"dataframe\">\n",
       "  <thead>\n",
       "    <tr style=\"text-align: right;\">\n",
       "      <th></th>\n",
       "      <th>x</th>\n",
       "      <th>y</th>\n",
       "      <th>z</th>\n",
       "      <th>i</th>\n",
       "      <th>r</th>\n",
       "      <th>g</th>\n",
       "      <th>b</th>\n",
       "    </tr>\n",
       "  </thead>\n",
       "  <tbody>\n",
       "    <tr>\n",
       "      <td>0</td>\n",
       "      <td>20.622999</td>\n",
       "      <td>40.276001</td>\n",
       "      <td>-1.999</td>\n",
       "      <td>-1031</td>\n",
       "      <td>127</td>\n",
       "      <td>141</td>\n",
       "      <td>154</td>\n",
       "    </tr>\n",
       "    <tr>\n",
       "      <td>1</td>\n",
       "      <td>20.362000</td>\n",
       "      <td>40.375000</td>\n",
       "      <td>-2.239</td>\n",
       "      <td>-941</td>\n",
       "      <td>130</td>\n",
       "      <td>141</td>\n",
       "      <td>159</td>\n",
       "    </tr>\n",
       "    <tr>\n",
       "      <td>2</td>\n",
       "      <td>20.360001</td>\n",
       "      <td>40.375999</td>\n",
       "      <td>-2.402</td>\n",
       "      <td>-1083</td>\n",
       "      <td>139</td>\n",
       "      <td>151</td>\n",
       "      <td>165</td>\n",
       "    </tr>\n",
       "    <tr>\n",
       "      <td>3</td>\n",
       "      <td>20.374001</td>\n",
       "      <td>40.367001</td>\n",
       "      <td>-2.405</td>\n",
       "      <td>-1122</td>\n",
       "      <td>131</td>\n",
       "      <td>147</td>\n",
       "      <td>163</td>\n",
       "    </tr>\n",
       "    <tr>\n",
       "      <td>4</td>\n",
       "      <td>20.372000</td>\n",
       "      <td>40.366001</td>\n",
       "      <td>-2.405</td>\n",
       "      <td>-1165</td>\n",
       "      <td>132</td>\n",
       "      <td>145</td>\n",
       "      <td>161</td>\n",
       "    </tr>\n",
       "    <tr>\n",
       "      <td>...</td>\n",
       "      <td>...</td>\n",
       "      <td>...</td>\n",
       "      <td>...</td>\n",
       "      <td>...</td>\n",
       "      <td>...</td>\n",
       "      <td>...</td>\n",
       "      <td>...</td>\n",
       "    </tr>\n",
       "    <tr>\n",
       "      <td>29697586</td>\n",
       "      <td>60.185001</td>\n",
       "      <td>82.120003</td>\n",
       "      <td>11.030</td>\n",
       "      <td>-1550</td>\n",
       "      <td>74</td>\n",
       "      <td>88</td>\n",
       "      <td>114</td>\n",
       "    </tr>\n",
       "    <tr>\n",
       "      <td>29697587</td>\n",
       "      <td>60.042999</td>\n",
       "      <td>81.584000</td>\n",
       "      <td>11.039</td>\n",
       "      <td>-1539</td>\n",
       "      <td>84</td>\n",
       "      <td>90</td>\n",
       "      <td>124</td>\n",
       "    </tr>\n",
       "    <tr>\n",
       "      <td>29697588</td>\n",
       "      <td>60.122002</td>\n",
       "      <td>81.777000</td>\n",
       "      <td>11.115</td>\n",
       "      <td>-1760</td>\n",
       "      <td>129</td>\n",
       "      <td>141</td>\n",
       "      <td>165</td>\n",
       "    </tr>\n",
       "    <tr>\n",
       "      <td>29697589</td>\n",
       "      <td>60.088001</td>\n",
       "      <td>81.818001</td>\n",
       "      <td>11.054</td>\n",
       "      <td>-1625</td>\n",
       "      <td>90</td>\n",
       "      <td>96</td>\n",
       "      <td>128</td>\n",
       "    </tr>\n",
       "    <tr>\n",
       "      <td>29697590</td>\n",
       "      <td>60.196999</td>\n",
       "      <td>82.137001</td>\n",
       "      <td>11.085</td>\n",
       "      <td>-1619</td>\n",
       "      <td>134</td>\n",
       "      <td>140</td>\n",
       "      <td>172</td>\n",
       "    </tr>\n",
       "  </tbody>\n",
       "</table>\n",
       "<p>29697591 rows × 7 columns</p>\n",
       "</div>"
      ],
      "text/plain": [
       "                  x          y       z     i    r    g    b\n",
       "0         20.622999  40.276001  -1.999 -1031  127  141  154\n",
       "1         20.362000  40.375000  -2.239  -941  130  141  159\n",
       "2         20.360001  40.375999  -2.402 -1083  139  151  165\n",
       "3         20.374001  40.367001  -2.405 -1122  131  147  163\n",
       "4         20.372000  40.366001  -2.405 -1165  132  145  161\n",
       "...             ...        ...     ...   ...  ...  ...  ...\n",
       "29697586  60.185001  82.120003  11.030 -1550   74   88  114\n",
       "29697587  60.042999  81.584000  11.039 -1539   84   90  124\n",
       "29697588  60.122002  81.777000  11.115 -1760  129  141  165\n",
       "29697589  60.088001  81.818001  11.054 -1625   90   96  128\n",
       "29697590  60.196999  82.137001  11.085 -1619  134  140  172\n",
       "\n",
       "[29697591 rows x 7 columns]"
      ]
     },
     "execution_count": 7,
     "metadata": {},
     "output_type": "execute_result"
    }
   ],
   "source": [
    "points"
   ]
  },
  {
   "cell_type": "code",
   "execution_count": 12,
   "metadata": {},
   "outputs": [
    {
     "data": {
      "text/plain": [
       "-2.239000082015991"
      ]
     },
     "execution_count": 12,
     "metadata": {},
     "output_type": "execute_result"
    }
   ],
   "source": [
    "points.iloc[1][2]"
   ]
  },
  {
   "cell_type": "code",
   "execution_count": null,
   "metadata": {},
   "outputs": [],
   "source": []
  }
 ],
 "metadata": {
  "kernelspec": {
   "display_name": "Python 3",
   "language": "python",
   "name": "python3"
  },
  "language_info": {
   "codemirror_mode": {
    "name": "ipython",
    "version": 3
   },
   "file_extension": ".py",
   "mimetype": "text/x-python",
   "name": "python",
   "nbconvert_exporter": "python",
   "pygments_lexer": "ipython3",
   "version": "3.7.4"
  }
 },
 "nbformat": 4,
 "nbformat_minor": 2
}
